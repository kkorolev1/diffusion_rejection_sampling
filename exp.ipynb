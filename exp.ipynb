{
 "cells": [
  {
   "cell_type": "code",
   "execution_count": 1,
   "metadata": {},
   "outputs": [],
   "source": [
    "%load_ext autoreload\n",
    "%autoreload 2"
   ]
  },
  {
   "cell_type": "code",
   "execution_count": 2,
   "metadata": {},
   "outputs": [],
   "source": [
    "import torch\n",
    "import torch.nn as nn\n",
    "from argparse import Namespace\n",
    "import os\n",
    "from pathlib import Path\n",
    "from tqdm.notebook import trange, tqdm\n",
    "import pickle\n",
    "import matplotlib.pyplot as plt\n",
    "import numpy as np\n",
    "\n",
    "%matplotlib inline\n",
    "\n",
    "os.environ[\"CUDA_VISIBLE_DEVICES\"] = \"0\"\n",
    "from score_sde.models.discriminator import Discriminator_small\n",
    "from score_sde.models.ncsnpp_generator_adagn import NCSNpp"
   ]
  },
  {
   "cell_type": "code",
   "execution_count": 3,
   "metadata": {},
   "outputs": [
    {
     "name": "stdout",
     "output_type": "stream",
     "text": [
      "\n"
     ]
    }
   ],
   "source": [
    "def load_checkpoint(net, ckpt_path):\n",
    "    ckpt = torch.load(ckpt_path)\n",
    "    for key in list(ckpt.keys()):\n",
    "        ckpt[key[7:]] = ckpt.pop(key)\n",
    "    net.load_state_dict(ckpt)\n",
    "\n",
    "device = \"cuda:0\"\n",
    "#device = \"cpu\"\n",
    "args = Namespace(seed=1024, resume=True, image_size=32, num_channels=3, centered=True, use_geometric=False, beta_min=0.1, beta_max=20.0, num_channels_dae=128, n_mlp=4, ch_mult=[1, 2, 2, 2], num_res_blocks=2, attn_resolutions=(16,), dropout=0.0, resamp_with_conv=True, conditional=True, fir=True, fir_kernel=[1, 3, 3, 1], skip_rescale=True, resblock_type='biggan', progressive='none', progressive_input='residual', progressive_combine='sum', embedding_type='positional', fourier_scale=16.0, not_use_tanh=False, exp='ddgan_stackmnist_exp1', dataset='stackmnist', nz=100, num_timesteps=4, z_emb_dim=256, t_emb_dim=256, batch_size=64, num_epoch=1800, ngf=64, lr_g=0.00016, lr_d=0.000125, beta1=0.5, beta2=0.9, no_lr_decay=False, use_ema=True, ema_decay=0.9999, r1_gamma=0.02, lazy_reg=15, save_content=True, save_content_every=100, save_ckpt_every=100, num_proc_node=1, num_process_per_node=1, node_rank=0, local_rank=0, master_address='127.0.0.1')\n",
    "ckpt_path = Path(\"saved_info/dd_gan/cifar10/ddgan_cifar10_exp1\")\n",
    "\n",
    "netG = NCSNpp(args).to(device)\n",
    "load_checkpoint(netG, ckpt_path / f\"netG_1200.pth\")\n",
    "netG.eval()\n",
    "\n",
    "netD = Discriminator_small(\n",
    "    nc=2 * args.num_channels,\n",
    "    ngf=args.ngf,\n",
    "    t_emb_dim=args.t_emb_dim,\n",
    "    act=nn.LeakyReLU(0.2),\n",
    ").to(device)\n",
    "netD.load_state_dict(torch.load(ckpt_path / f\"netD_1400.pth\"))\n",
    "netD.eval()\n",
    "\n",
    "print()"
   ]
  },
  {
   "cell_type": "code",
   "execution_count": 4,
   "metadata": {},
   "outputs": [],
   "source": [
    "from sampler.utils import Diffusion_Coefficients, Posterior_Coefficients, extract, get_sigma_schedule, q_sample_next\n",
    "from sampler.rejection_sampling import RejectionSamplingProcessor"
   ]
  },
  {
   "cell_type": "code",
   "execution_count": 5,
   "metadata": {},
   "outputs": [],
   "source": [
    "pos_coeff = Posterior_Coefficients(args, device)\n",
    "coeff = Diffusion_Coefficients(args, device)\n",
    "# dicts = []\n",
    "# num_runs_range = torch.linspace(1, 500, 5)\n",
    "# for n_runs in num_runs_range:\n",
    "#     log_ratio_dict = RejectionSamplingProcessor.recalculate_log_ratio(pos_coeff, netG, netD, n_time=4, opt=args, device=device, n_runs=int(n_runs)).log_ratio_dict\n",
    "#     dicts.append(log_ratio_dict)\n",
    "#     print(n_runs)"
   ]
  },
  {
   "cell_type": "code",
   "execution_count": 6,
   "metadata": {},
   "outputs": [],
   "source": [
    "# t = torch.arange(4).to(device)\n",
    "# x_t = torch.arange(t.shape[0] * 8 * 8).reshape(-1, 8, 8).to(device)\n",
    "# print(extract(coeff.a_s, t + 1, x_t.shape), extract(coeff.sigmas, t + 1, x_t.shape))\n",
    "\n",
    "# sigmas = pos_coeff.betas**0.5\n",
    "# a_s = torch.sqrt(1 - pos_coeff.betas)\n",
    "# print(extract(a_s, t, x_t.shape), extract(sigmas, t, x_t.shape))"
   ]
  },
  {
   "cell_type": "code",
   "execution_count": 7,
   "metadata": {},
   "outputs": [],
   "source": [
    "# rs_processor = RejectionSamplingProcessor.recalculate_log_ratio(pos_coeff, netG, netD, n_time=4, opt=args, device=device, n_runs=1000)\n",
    "# log_ratio_dict = rs_processor.log_ratio_dict\n",
    "\n",
    "# with open(\"log_ratio_dict.pickle\", \"wb\") as f:\n",
    "#     pickle.dump(log_ratio_dict, f)\n",
    "\n",
    "# with open(\"dicts.pickle\", \"wb\") as f:\n",
    "#     pickle.dump(dicts, f)"
   ]
  },
  {
   "cell_type": "code",
   "execution_count": 8,
   "metadata": {},
   "outputs": [],
   "source": [
    "# plt.figure(figsize=(12, 4))\n",
    "# for t in range(4):\n",
    "#     plt.subplot(1, 4, t + 1)\n",
    "#     print([torch.max(dicts[i][t]) for i in range(len(dicts))])\n",
    "#     plt.plot(num_runs_range * args.batch_size, [torch.max(dicts[i][t]) for i in range(len(dicts))])\n",
    "#     plt.xlabel(\"num samples\")\n",
    "#     plt.ylabel(\"max log ratio\")\n",
    "#     plt.title(f\"t={t}\")\n",
    "# plt.tight_layout()"
   ]
  },
  {
   "cell_type": "code",
   "execution_count": 9,
   "metadata": {},
   "outputs": [
    {
     "data": {
      "text/plain": [
       "(torch.Size([64000]),\n",
       " {3: 1.0900020599365234, 2: 1.1447144746780396, 1: 1.112688422203064, 0: 0})"
      ]
     },
     "execution_count": 9,
     "metadata": {},
     "output_type": "execute_result"
    }
   ],
   "source": [
    "with open(\"log_ratio_dict.pickle\", \"rb\") as f:\n",
    "    log_ratio_dict = pickle.load(f)\n",
    "\n",
    "rs_processor = RejectionSamplingProcessor(netD, log_ratio_dict, device, constant_quantile=0.95)\n",
    "\n",
    "rs_processor.log_ratio_dict[0].shape, rs_processor.log_constant_dict"
   ]
  },
  {
   "cell_type": "code",
   "execution_count": null,
   "metadata": {},
   "outputs": [],
   "source": [
    "plt.figure(figsize=(12, 4))\n",
    "for i in rs_processor.log_ratio_dict.keys():\n",
    "    plt.subplot(1, len(rs_processor.log_ratio_dict.keys()), i + 1)\n",
    "    plt.hist(torch.sigmoid(rs_processor.log_ratio_dict[i]).cpu(), bins=100)\n",
    "    plt.title(f\"t={i}\")\n",
    "    plt.xlabel(\"prob\")\n",
    "plt.tight_layout()\n",
    "plt.show()\n",
    "\n",
    "plt.figure(figsize=(12, 4))\n",
    "for i in rs_processor.log_ratio_dict.keys():\n",
    "    plt.subplot(1, len(rs_processor.log_ratio_dict.keys()), i + 1)\n",
    "    plt.hist(rs_processor.log_ratio_dict[i].cpu(), bins=100)\n",
    "    plt.title(f\"t={i}\")\n",
    "    plt.xlabel(\"log ratio\")\n",
    "plt.tight_layout()\n",
    "plt.show()"
   ]
  },
  {
   "cell_type": "markdown",
   "metadata": {},
   "source": [
    "$$\n",
    "D^*(x) = \\frac{1}{1 + \\exp{(-F^*(x))}} = \\frac{q(x)}{q(x)+p(x)}\\\\\n",
    "F^*(x) = \\log{\\frac{D^*(x)}{1 - D^*(x)}} = \\log{\\frac{q(x)}{p(x)}}\\\\\n",
    "$$"
   ]
  },
  {
   "cell_type": "code",
   "execution_count": null,
   "metadata": {},
   "outputs": [],
   "source": [
    "import matplotlib.pyplot as plt\n",
    "from torchvision.utils import make_grid\n",
    "import numpy as np\n",
    "%matplotlib inline\n",
    "\n",
    "def tensor_to_grid(image):\n",
    "    image = image.add(1).mul(127.5).clamp(0, 255)\n",
    "    return make_grid(image, nrow=int(np.sqrt(image.shape[0])), padding=0)"
   ]
  },
  {
   "cell_type": "code",
   "execution_count": null,
   "metadata": {},
   "outputs": [],
   "source": [
    "from sampler.rejection_sampling import rejection_sample, rejection_sample_reinit"
   ]
  },
  {
   "cell_type": "code",
   "execution_count": null,
   "metadata": {},
   "outputs": [],
   "source": [
    "rs_processor = RejectionSamplingProcessor(netD, log_ratio_dict, device, constant_quantile=0.7)\n",
    "\n",
    "x_t_1 = torch.randn(\n",
    "    16, args.num_channels, args.image_size, args.image_size\n",
    ").to(device)\n",
    "\n",
    "args.reinit_steps = 1\n",
    "args.reject_full_trajectory = False\n",
    "\n",
    "try:\n",
    "    #x_0 = rejection_sample(pos_coeff, netG, rs_processor, n_time=4, x_init=x_t_1, opt=args, reject_full_trajectory=True)\n",
    "    x_0 = rejection_sample_reinit(pos_coeff, netG, rs_processor, n_time=4, x_init=x_t_1, opt=args)\n",
    "    grid = tensor_to_grid(x_0)\n",
    "    plt.imshow(grid.permute(1, 2, 0).to(\"cpu\", torch.uint8).numpy())\n",
    "    plt.show()\n",
    "except Exception as exc:\n",
    "    print(\"error\", exc)"
   ]
  },
  {
   "cell_type": "code",
   "execution_count": 14,
   "metadata": {},
   "outputs": [
    {
     "ename": "NameError",
     "evalue": "name 'x_0' is not defined",
     "output_type": "error",
     "traceback": [
      "\u001b[0;31m---------------------------------------------------------------------------\u001b[0m",
      "\u001b[0;31mNameError\u001b[0m                                 Traceback (most recent call last)",
      "Cell \u001b[0;32mIn[14], line 1\u001b[0m\n\u001b[0;32m----> 1\u001b[0m x_t \u001b[38;5;241m=\u001b[39m \u001b[43mx_0\u001b[49m\n\u001b[1;32m      2\u001b[0m grid \u001b[38;5;241m=\u001b[39m tensor_to_grid(x_t)\n\u001b[1;32m      3\u001b[0m plt\u001b[38;5;241m.\u001b[39mimshow(grid\u001b[38;5;241m.\u001b[39mpermute(\u001b[38;5;241m1\u001b[39m, \u001b[38;5;241m2\u001b[39m, \u001b[38;5;241m0\u001b[39m)\u001b[38;5;241m.\u001b[39mto(\u001b[38;5;124m\"\u001b[39m\u001b[38;5;124mcpu\u001b[39m\u001b[38;5;124m\"\u001b[39m, torch\u001b[38;5;241m.\u001b[39muint8)\u001b[38;5;241m.\u001b[39mnumpy())\n",
      "\u001b[0;31mNameError\u001b[0m: name 'x_0' is not defined"
     ]
    }
   ],
   "source": [
    "x_t = x_0\n",
    "grid = tensor_to_grid(x_t)\n",
    "plt.imshow(grid.permute(1, 2, 0).to(\"cpu\", torch.uint8).numpy())\n",
    "plt.title(\"x_0\")\n",
    "plt.show()\n",
    "for i in range(4):\n",
    "    t = i * torch.ones((x_0.shape[0]), dtype=torch.int64, device=x_0.device)\n",
    "    x = q_sample_next(pos_coeff, x_t, t, t + 1)\n",
    "    grid = tensor_to_grid(x)\n",
    "    plt.imshow(grid.permute(1, 2, 0).to(\"cpu\", torch.uint8).numpy())\n",
    "    plt.title(f\"x_{i+1}\")\n",
    "    plt.show()"
   ]
  },
  {
   "cell_type": "code",
   "execution_count": null,
   "metadata": {},
   "outputs": [],
   "source": []
  }
 ],
 "metadata": {
  "kernelspec": {
   "display_name": "Python [miniconda3-kkorolev]",
   "language": "python",
   "name": "conda-env-miniconda3-kkorolev-py"
  },
  "language_info": {
   "codemirror_mode": {
    "name": "ipython",
    "version": 3
   },
   "file_extension": ".py",
   "mimetype": "text/x-python",
   "name": "python",
   "nbconvert_exporter": "python",
   "pygments_lexer": "ipython3",
   "version": "3.10.16"
  }
 },
 "nbformat": 4,
 "nbformat_minor": 4
}
